{
  "nbformat": 4,
  "nbformat_minor": 0,
  "metadata": {
    "colab": {
      "name": "tutorialFreeGPU_Jan2019.ipynb",
      "version": "0.3.2",
      "provenance": [],
      "collapsed_sections": [],
      "include_colab_link": true
    },
    "kernelspec": {
      "name": "python3",
      "display_name": "Python 3"
    },
    "accelerator": "GPU"
  },
  "cells": [
    {
      "cell_type": "markdown",
      "metadata": {
        "id": "view-in-github",
        "colab_type": "text"
      },
      "source": [
        "<a href=\"https://colab.research.google.com/github/sharondenisse/MachineLearningNotebooks/blob/master/Numbers_FreeGPU_Jan2019.ipynb\" target=\"_parent\"><img src=\"https://colab.research.google.com/assets/colab-badge.svg\" alt=\"Open In Colab\"/></a>"
      ]
    },
    {
      "metadata": {
        "id": "bV8HGMCr_OKM",
        "colab_type": "code",
        "colab": {}
      },
      "cell_type": "code",
      "source": [
        "# First important step to follow inside Google Colab:\n",
        "# Go to Edit > Notebook Settings \n",
        "# and change your Hardware Accelerator to GPU"
      ],
      "execution_count": 0,
      "outputs": []
    },
    {
      "metadata": {
        "id": "HCSzlxgzYtM1",
        "colab_type": "code",
        "outputId": "30baff98-93c7-4c50-baf8-887d2e5ec2b4",
        "colab": {
          "base_uri": "https://localhost:8080/",
          "height": 34
        }
      },
      "cell_type": "code",
      "source": [
        "x = 3\n",
        "print(type(x))\n",
        "!"
      ],
      "execution_count": 2,
      "outputs": [
        {
          "output_type": "stream",
          "text": [
            "<class 'int'>\n"
          ],
          "name": "stdout"
        }
      ]
    },
    {
      "metadata": {
        "id": "6QhO7HmQZJSc",
        "colab_type": "code",
        "colab": {}
      },
      "cell_type": "code",
      "source": [
        "# It's running Python smoothly!  HURRAY!\n",
        "# Now, let's save how to import .py from the drive"
      ],
      "execution_count": 0,
      "outputs": []
    },
    {
      "metadata": {
        "id": "lH2wp51uZT05",
        "colab_type": "code",
        "outputId": "cf741cc1-b8c2-4019-895d-7b99f45387be",
        "colab": {
          "base_uri": "https://localhost:8080/",
          "height": 121
        }
      },
      "cell_type": "code",
      "source": [
        "from google.colab import drive\n",
        "drive.mount('/content/gdrive')"
      ],
      "execution_count": 4,
      "outputs": [
        {
          "output_type": "stream",
          "text": [
            "Go to this URL in a browser: https://accounts.google.com/o/oauth2/auth?client_id=947318989803-6bn6qk8qdgf4n4g3pfee6491hc0brc4i.apps.googleusercontent.com&redirect_uri=urn%3Aietf%3Awg%3Aoauth%3A2.0%3Aoob&scope=email%20https%3A%2F%2Fwww.googleapis.com%2Fauth%2Fdocs.test%20https%3A%2F%2Fwww.googleapis.com%2Fauth%2Fdrive%20https%3A%2F%2Fwww.googleapis.com%2Fauth%2Fdrive.photos.readonly%20https%3A%2F%2Fwww.googleapis.com%2Fauth%2Fpeopleapi.readonly&response_type=code\n",
            "\n",
            "Enter your authorization code:\n",
            "··········\n",
            "Mounted at /content/gdrive\n"
          ],
          "name": "stdout"
        }
      ]
    },
    {
      "metadata": {
        "id": "BpgY5PJtZe8X",
        "colab_type": "code",
        "outputId": "62e0f0e3-699d-49db-8272-142f57e4e089",
        "colab": {
          "base_uri": "https://localhost:8080/",
          "height": 34
        }
      },
      "cell_type": "code",
      "source": [
        "!pwd"
      ],
      "execution_count": 5,
      "outputs": [
        {
          "output_type": "stream",
          "text": [
            "/content\n"
          ],
          "name": "stdout"
        }
      ]
    },
    {
      "metadata": {
        "id": "apjRwEVvLnad",
        "colab_type": "code",
        "outputId": "12866429-cb6c-4195-bf65-51467ba69716",
        "colab": {
          "base_uri": "https://localhost:8080/",
          "height": 34
        }
      },
      "cell_type": "code",
      "source": [
        ""
      ],
      "execution_count": 0,
      "outputs": [
        {
          "output_type": "stream",
          "text": [
            "Hello Google Drive!"
          ],
          "name": "stdout"
        }
      ]
    },
    {
      "metadata": {
        "id": "o0zCn1juMMc2",
        "colab_type": "code",
        "colab": {
          "base_uri": "https://localhost:8080/",
          "height": 34
        },
        "outputId": "1b106dfd-e66f-4ea0-f301-cc3fb7bcc417"
      },
      "cell_type": "code",
      "source": [
        "!ls"
      ],
      "execution_count": 6,
      "outputs": [
        {
          "output_type": "stream",
          "text": [
            "gdrive\tsample_data\n"
          ],
          "name": "stdout"
        }
      ]
    },
    {
      "metadata": {
        "id": "ksvd98BvPJK0",
        "colab_type": "code",
        "colab": {
          "base_uri": "https://localhost:8080/",
          "height": 34
        },
        "outputId": "7c0a1330-7a26-4b9a-ec8e-9caaa72b2698"
      },
      "cell_type": "code",
      "source": [
        "cd gdrive"
      ],
      "execution_count": 9,
      "outputs": [
        {
          "output_type": "stream",
          "text": [
            "/content/gdrive\n"
          ],
          "name": "stdout"
        }
      ]
    },
    {
      "metadata": {
        "id": "Mc-2XucmPJPU",
        "colab_type": "code",
        "colab": {
          "base_uri": "https://localhost:8080/",
          "height": 34
        },
        "outputId": "695c31c3-295b-45d6-cfba-48488302e338"
      },
      "cell_type": "code",
      "source": [
        "ls"
      ],
      "execution_count": 10,
      "outputs": [
        {
          "output_type": "stream",
          "text": [
            "\u001b[0m\u001b[01;34m'My Drive'\u001b[0m/\n"
          ],
          "name": "stdout"
        }
      ]
    },
    {
      "metadata": {
        "id": "eVBLearhPJT4",
        "colab_type": "code",
        "colab": {
          "base_uri": "https://localhost:8080/",
          "height": 34
        },
        "outputId": "af996196-6608-4ff9-fdb8-97a61dd5718b"
      },
      "cell_type": "code",
      "source": [
        "cd My\\ Drive"
      ],
      "execution_count": 11,
      "outputs": [
        {
          "output_type": "stream",
          "text": [
            "/content/gdrive/My Drive\n"
          ],
          "name": "stdout"
        }
      ]
    },
    {
      "metadata": {
        "id": "dBFGNOtLPJiZ",
        "colab_type": "code",
        "colab": {
          "base_uri": "https://localhost:8080/",
          "height": 3830
        },
        "outputId": "952a7c8f-ecce-4489-d31e-e1daefa96b93"
      },
      "cell_type": "code",
      "source": [
        "ls"
      ],
      "execution_count": 12,
      "outputs": [
        {
          "output_type": "stream",
          "text": [
            " 1126_001.pdf\n",
            "'12-SDK_Endocrine disruptors in bottled water.pptx'\n",
            " 1522672636_2262.pdf\n",
            "'2009 EIT Review math SOLN(1).pdf'\n",
            " 2013_FE_Env_practice_errata.v1.pdf\n",
            " 21_environmental_engineering.pdf\n",
            " 23me.pdf\n",
            " 8173632390090770434.mp4\n",
            " 85book-eng.pdf\n",
            "'A Concise Introduction to Programming in Python, Second Edition.pdf'\n",
            " act1_h.mp4\n",
            " act2_h.mp4\n",
            " acting-senior-managers.pdf\n",
            " AD_2016_taxes.pdf\n",
            "'AD 90 day notice.gdoc'\n",
            "'Addtional CPM exercises for test prep.pdf'\n",
            " AD_signedTaxes2017.pdf\n",
            " AdvancedAirNoisePollutionControl.pdf\n",
            " Advanced_Jupyter.ipynb\n",
            " \u001b[0m\u001b[01;34mALL_EPAwork\u001b[0m/\n",
            "'All Professional Engineering Positions 0800.pdf'\n",
            " AlternativeWorkLocationSKenny.pdf\n",
            "'A Mind For Numbers How to Excel at Math and Science .epub'\n",
            " AMK_firstProgram.flv\n",
            " AMK_LanguageAndHealthReport.pdf\n",
            " applied_physics_ii_exam3_sol.pdf\n",
            " ApprovalOutsideEmployment2017.pdf\n",
            " \u001b[01;34mappSDK\u001b[0m/\n",
            " AP_Stat_summer_packet.pdf\n",
            " ArcGIS_API_Tutorial.pdf\n",
            " ArcpyFunctionsClasses.xlsx\n",
            " ArcPyPro.pdf\n",
            "'Arctic Council.gdoc'\n",
            "'Arctic Frontiers 2017.pdf'\n",
            " Asgn_2_Graph_Transformations_Answers.pdf\n",
            "'Body for Life (1).pdf'\n",
            "'Body for Life.pdf'\n",
            "'Body for Life.zip'\n",
            " \u001b[01;34mBooksPDF\u001b[0m/\n",
            " CashAward2016.pdf\n",
            " \u001b[01;34mclouderizer\u001b[0m/\n",
            " CodeToFindStringsExcel.xlsx\n",
            "\u001b[01;34m'Colab Notebooks'\u001b[0m/\n",
            " CollectionSites_insert_21dec2016.pdf\n",
            " conda-cheatsheet.pdf\n",
            " ConfidentialCertificateSDK2017.pdf\n",
            " ConfidentialFinancialDisclosure2017.pdf\n",
            " ContractBrynMawrFilm.pdf\n",
            " CourseraGIS_Getting-your-copy-of-ArcGIS.pdf\n",
            " CU_Boulder_Mathematica.pdf\n",
            " CV+Hanne+Hammer+Stien.pdf\n",
            " cv_jolynn-carroll_13-12-2013-20140102.pdf\n",
            "'Data Science from Scratch- First Principles with Python.pdf'\n",
            "'Delaware End of Year Report.gdoc'\n",
            "'Delaware End of Year Report.pdf'\n",
            " Demlow-Mathematics-Notes.pdf\n",
            "'Differential Equations Review.pdf'\n",
            " Documentation_for_PE_exam.docx.gdoc\n",
            " \u001b[01;34mDocuments\u001b[0m/\n",
            " \u001b[01;34mDocuments_Files_Stuff\u001b[0m/\n",
            " Doubling_Time_and_Half_Life.pdf\n",
            "'Doug Stanhope - This Is Not Fame (1).epub'\n",
            "'Doug Stanhope - This Is Not Fame.epub'\n",
            " Drexel_Network.pdf\n",
            " DrFitzpatrickLetter.pdf\n",
            " DrinkingWater_textbook_fmatter.pdf\n",
            " Dwiebies.pdf\n",
            " EEO_finalDetermination.pdf\n",
            "'Effectiveness of H2O treatment processes.PDF'\n",
            "'EIT_Chapter _1.docx.gdoc'\n",
            " eit_review_3_4_13_modified_engineering_economics_presentation_-_spring_2013.pptx.gslides\n",
            " EnvEcon_BasicConceptsandDebates.pdf\n",
            " EPAAwardCash2016.pdf\n",
            " EPA_awards_certifications.pdf\n",
            "'EPA_BudgetSince1970 .gsheet'\n",
            " EPA_payment_OPM.pdf\n",
            " EPARequestforOutsideEmployment2017.pdf\n",
            " ER_note_VTK2018.pdf\n",
            "'Esri Conference 2018.gdoc'\n",
            " Ethics.PDF\n",
            " Exam1-Solutions.pdf\n",
            "'Exam specifications_PE Env Apr 2011.pdf'\n",
            "'Exponential Growth and Decay_DiffEQ.pdf'\n",
            " extraFERM.pdf\n",
            " FE-Env-CBT-specs_with-ranges.pdf\n",
            " FEreviewSCHEDULE.xlsx.gsheet\n",
            " FERMtoc.pdf\n",
            " FinancialDisclosure2018.pdf\n",
            " foo2.txt\n",
            " foo.txt\n",
            " FranceIntern.pdf\n",
            "'Fundamentals of Electrical Energy.pdf'\n",
            " FY18_EPAappraisal.pdf\n",
            " FY2016_Annual_Review.pdf\n",
            " FY2017_EPAappraisal.pdf\n",
            "'Geospatial Analysis.pdf'\n",
            " \u001b[01;34mGIS_book\u001b[0m/\n",
            " GISideasSanDiego2017.pdf\n",
            " GIS_Resources-and-Help_2016_10_09.pdf\n",
            " \u001b[01;34mGitHub\u001b[0m/\n",
            "\u001b[01;34m'Google Photos'\u001b[0m/\n",
            "'Google Store Financing March 2017.pdf'\n",
            " GOPR0003.MP4\n",
            " HOMEWORK001.PDF\n",
            " Hotel_Receipt_Feb2017.pdf\n",
            " IMG_3461.JPG\n",
            " IMG_3611.JPG\n",
            " IMG_3612.JPG\n",
            "'integrate trig(1).pdf'\n",
            "'Introduction to Computation and Programming Using Python, Revised - Guttag, John V..pdf'\n",
            " Jake_VanderPlas_Python_Data_Science_Handbook.__Essential_Tools_for_Working_with_Data.pdf\n",
            " KLVN_International.docx\n",
            " KLVNinternational_LegalDoc.pdf\n",
            " KLVNinternational.pdf\n",
            " KLVNint_internship.pdf\n",
            "'Learning about Humans learning ML.gsheet'\n",
            " learn-python3-the-hard-way-jul-4-2017.pdf\n",
            "'Letter for Jason.gdoc'\n",
            "'Letter for Sanae.gdoc'\n",
            "'letter to DAPE_EIT.doc.gdoc'\n",
            " Logarithms.pdf\n",
            " \u001b[01;34mLP3THW_2017\u001b[0m/\n",
            " \u001b[01;34mLP3THW_Videos\u001b[0m/\n",
            "'Math 101 Syllabus Winter 2014.pdf'\n",
            "'Math 122 Exam 2 Fall 14 Solution.pdf'\n",
            "'Math 122Exam2Summer14.pdf'\n",
            " Math122_Winter_2011_Exam1_Solutions.pdf\n",
            " Math122_Winter_2012_Exam1_Version_1_Solutions.pdf\n",
            " MATH225S14-WS10.pdf\n",
            " mathreview2013.pdf\n",
            " Mid1Review.pdf\n",
            " Mid2Review.pdf\n",
            " MRI_Cervical_2017.pdf\n",
            "\u001b[01;34m'My Scanned Documents'\u001b[0m/\n",
            " naming_review_sheet_answers.doc.gdoc\n",
            " NCEES-Examinees-with-Disabilities-Guide-Dec-2013.pdf\n",
            " \u001b[01;34mNorge_OsloUniv\u001b[0m/\n",
            " \u001b[01;34mNorwegian\u001b[0m/\n",
            " nuclearchemistrypacket_2012_2013.pdf\n",
            " oge_450_june_2015_edition.pdf\n",
            " OliveGardenSoupBetterVale.pdf\n",
            " OvertimeEPA.pdf\n",
            "'Pauls Online Notes _ Calculus I - Work.pdf'\n",
            " Phys100_04-vtk23-11865688.pdf\n",
            " PHYS-100-EXTRA-UNIT-05.pdf\n",
            " phys100_forces_vectors_2.pdf\n",
            " PHYS100-HW-04-SOL.pdf\n",
            " PHYS100-HW-05.pdf\n",
            " phys100_HW_Week_Two.pdf\n",
            " Phys100_week_One_HW.pdf\n",
            " phys100_Week_one_measurement_sci_notation.pdf\n",
            " phys100_Week_two_vectors.pdf\n",
            " Phys_183_Exam_Final_winter_2010_2011.pdf\n",
            " Phys_280_MT_1_spring_2009_2010.pdf\n",
            " pim_installmgr.log\n",
            "'PortableCV_Jobbnorge_20160115 (1).zip'\n",
            " PresentationPR_Final.pptx\n",
            " PresentationPR__pdf_Final.pdf\n",
            " PresentationPR.pptx\n",
            "'Print Label.pdf'\n",
            "\u001b[01;34m'Python 3'\u001b[0m/\n",
            " \u001b[01;34mPython_homeComputer\u001b[0m/\n",
            " QuakerMeetingsForAtheists.pdf\n",
            " quiz1ASolution.pdf\n",
            " quiz1fall14_Solution.pdf\n",
            " quiz1_solved.pdf\n",
            " quiz2fall12answer.pdf\n",
            " quiz2_solved.pdf\n",
            "'quiz3fallSolution(1).pdf'\n",
            " quiz3_solved.pdf\n",
            "'quiz4f14Solution(1).pdf'\n",
            "'quiz6f14Solution (1).pdf'\n",
            " quiz6f14Solution.pdf\n",
            " quiz7f14Solution.pdf\n",
            "'Quiz7 Trigonometry Sol.pdf'\n",
            " R3-Superfund_Codes.xlsx\n",
            " REFINFO.DOC.gdoc\n",
            " resumenorskgeologyphddirectorniva_no.zip\n",
            " ReturnJacketMarmot.pdf\n",
            " SAT_Practice_CHEMISTRY.pdf\n",
            " Script_alarms_Excel.gsheet\n",
            " SDK2018LeaveBank.pdf\n",
            " \u001b[01;34mSDK_Career_FY16\u001b[0m/\n",
            " SDK_SFU_EnvEng.pptx\n",
            " SDK_TempleUniv2.pptx\n",
            " Seeds_2018.xlsx\n",
            " Seeds_2018.xlsx.gsheet\n",
            " Seeds.gsheet\n",
            " serinfo.pdf\n",
            "'Seventeen_Equations_that_Changed_the_World (1).epub'\n",
            " Seventeen_Equations_that_Changed_the_World.epub\n",
            " sharongraph.pdf\n",
            " SkiPatrolExamPassed2018.pdf\n",
            " Sol_Phys_183_Exam_Final_winter_2010_2011.pdf\n",
            "'Solution to PHYSICSMidterm1.pdf'\n",
            " Sound_Algebra.pdf\n",
            " SpecialAccountsWorkbookFY18_FINAL.xlsx\n",
            " SpecialAccountsWorkbookFY18_onlyLAB.xlsx\n",
            " SpecialAccountsWorkbookFY18_ORIGINAL.xlsx\n",
            " SpecialAccountsWorkbookFY18_transpose.xlsx\n",
            " SpecialAccountsWorkbookFY18.xlsx\n",
            " SSAP_Codes.xlsx\n",
            " SSAP_ProjectCharter.xlsx\n",
            "'SSAP Project.gdoc'\n",
            " SSAP_Sites.xlsx\n",
            " SSAP_Staff.xlsx\n",
            " SSAP_SUMMARY.xlsx\n",
            " SSCA_Map_DRAFT.avi\n",
            "'Star.vs.The.Forces.of.Evil.S01E05.Diaz.Family.Vacation-Brittneys (1).Party.1080p.WEB.mkv'\n",
            " Star.vs.The.Forces.of.Evil.S01E05.Diaz.Family.Vacation-Brittneys.Party.1080p.WEB.mkv\n",
            " Star.vs.The.Forces.of.Evil.S01E06.Lobster.Claws-Sleep.Spells.1080p.WEB.mkv\n",
            " Statisticsweek2_handout_p2.pdf\n",
            " StudentLoansSignedPage.pdf\n",
            " Superfund_Site_Search.xls\n",
            " \u001b[01;34mTaxes_TheKennys\u001b[0m/\n",
            " TheGeoLibraryInS.pdf\n",
            " TheKennysSPICES.gsheet\n",
            " ti-85_Basic_Stuff.pdf\n",
            " ti-85_BasicStuff.pdf\n",
            " ti-85_Integrals.pdf\n",
            " ti-85_Solver.pdf\n",
            "'Today nov11sun2018.gdoc'\n",
            " triangle-30-60.gif\n",
            "'TrigHandout1 Sol.pdf'\n",
            "'TrigHandout2 Table.pdf'\n",
            " tues_notes_apset8.pdf\n",
            "'Unit 4 Sample Problems.pdf'\n"
          ],
          "name": "stdout"
        }
      ]
    },
    {
      "metadata": {
        "id": "9WGOo85VPfr3",
        "colab_type": "code",
        "colab": {
          "base_uri": "https://localhost:8080/",
          "height": 34
        },
        "outputId": "18230be6-7363-4dd0-fc09-a18508c245fd"
      },
      "cell_type": "code",
      "source": [
        "with open('/content/gdrive/My Drive/foo3.txt', 'w') as f:\n",
        "  f.write('Hello Google Drive3!')\n",
        "!cat /content/gdrive/My\\ Drive/foo3.txt"
      ],
      "execution_count": 14,
      "outputs": [
        {
          "output_type": "stream",
          "text": [
            "Hello Google Drive3!"
          ],
          "name": "stdout"
        }
      ]
    },
    {
      "metadata": {
        "id": "5XKH41M2ZzIV",
        "colab_type": "code",
        "colab": {}
      },
      "cell_type": "code",
      "source": [
        "!pip install -q keras"
      ],
      "execution_count": 0,
      "outputs": []
    },
    {
      "metadata": {
        "id": "bFb4TqGnaJb_",
        "colab_type": "code",
        "colab": {}
      },
      "cell_type": "code",
      "source": [
        "# I saved the .py file in my Google Drive directly\n",
        "#!python3 \"/content/drive/My Drive/appSDK/mnist_cnn.py\"\n",
        "# But you can use the code below to do so too\n",
        "\n",
        "# Now, if you know where a file sits online, you can save it with this code:\n",
        "#!wget https://THE_URL/NAME_FILE.csv -P \"/content/drive/My Drive/appSDK\"\n",
        "# where \"THE_URL\" and \"NAME_FILE\" should be replaced with real info"
      ],
      "execution_count": 0,
      "outputs": []
    },
    {
      "metadata": {
        "id": "ybDDRVeJPtd-",
        "colab_type": "code",
        "colab": {
          "resources": {
            "http://localhost:8080/nbextensions/google.colab/files.js": {
              "data": "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",
              "ok": true,
              "headers": [
                [
                  "content-type",
                  "application/javascript"
                ]
              ],
              "status": 200,
              "status_text": ""
            }
          },
          "base_uri": "https://localhost:8080/",
          "height": 90
        },
        "outputId": "5eff0e33-1258-4392-cbee-76c0f57ebb41"
      },
      "cell_type": "code",
      "source": [
        "from google.colab import files\n",
        "\n",
        "uploaded = files.upload()\n",
        "\n",
        "for fn in uploaded.keys():\n",
        "  print('User uploaded file \"{name}\" with length {length} bytes'.format(\n",
        "      name=fn, length=len(uploaded[fn])))"
      ],
      "execution_count": 16,
      "outputs": [
        {
          "output_type": "display_data",
          "data": {
            "text/html": [
              "\n",
              "     <input type=\"file\" id=\"files-0c8bf9c1-773e-4d48-a279-79ccdfa3bac1\" name=\"files[]\" multiple disabled />\n",
              "     <output id=\"result-0c8bf9c1-773e-4d48-a279-79ccdfa3bac1\">\n",
              "      Upload widget is only available when the cell has been executed in the\n",
              "      current browser session. Please rerun this cell to enable.\n",
              "      </output>\n",
              "      <script src=\"/nbextensions/google.colab/files.js\"></script> "
            ],
            "text/plain": [
              "<IPython.core.display.HTML object>"
            ]
          },
          "metadata": {
            "tags": []
          }
        },
        {
          "output_type": "stream",
          "text": [
            "Saving IMG_0774.JPG to IMG_0774.JPG\n",
            "User uploaded file \"IMG_0774.JPG\" with length 1091393 bytes\n"
          ],
          "name": "stdout"
        }
      ]
    },
    {
      "metadata": {
        "id": "k60QrPUhPuQ1",
        "colab_type": "code",
        "colab": {}
      },
      "cell_type": "code",
      "source": [
        ""
      ],
      "execution_count": 0,
      "outputs": []
    },
    {
      "metadata": {
        "id": "763_cPOfdHoM",
        "colab_type": "code",
        "colab": {}
      },
      "cell_type": "code",
      "source": [
        "# MACHINE LEARNING STARTS\n",
        "\n",
        "\n",
        "\n",
        "from __future__ import print_function\n",
        "import keras\n",
        "from keras.datasets import mnist\n",
        "from keras.models import Sequential\n",
        "from keras.layers import Dense, Dropout, Flatten, Conv2D, MaxPooling2D\n",
        "from keras import backend as k\n",
        "import matplotlib.pyplot as plt\n",
        "import numpy as np\n",
        "\n",
        "#loading mnist dataset\n",
        "(X_train, y_train), (X_test, y_test) = mnist.load_data()"
      ],
      "execution_count": 0,
      "outputs": []
    },
    {
      "metadata": {
        "id": "ZKcSysmxbB8H",
        "colab_type": "code",
        "outputId": "51e5311d-6136-4614-b4f8-2b88461c40a0",
        "colab": {
          "base_uri": "https://localhost:8080/",
          "height": 751
        }
      },
      "cell_type": "code",
      "source": [
        "fig = plt.figure()\n",
        "for i in range(9):\n",
        "  plt.subplot(3,3,i+1)\n",
        "  plt.tight_layout()\n",
        "  plt.imshow(X_train[i], cmap='Purples', interpolation='none')\n",
        "  plt.title(\"Digit: {}\".format(y_train[i]))\n",
        "  plt.xticks([])\n",
        "  plt.yticks([])\n",
        "\n",
        "\n",
        "fig"
      ],
      "execution_count": 20,
      "outputs": [
        {
          "output_type": "execute_result",
          "data": {
            "image/png": "[encoded data removed]",
            "text/plain": [
              "<Figure size 576x396 with 9 Axes>"
            ]
          },
          "metadata": {
            "tags": []
          },
          "execution_count": 20
        },
        {
          "output_type": "display_data",
          "data": {
            "image/png": "[encoded data removed]",
            "text/plain": [
              "<Figure size 576x396 with 9 Axes>"
            ]
          },
          "metadata": {
            "tags": []
          }
        }
      ]
    },
    {
      "metadata": {
        "id": "tkOVzqMpc-ba",
        "colab_type": "code",
        "outputId": "3d0494ce-d710-43fb-bbb3-538607404b42",
        "colab": {
          "base_uri": "https://localhost:8080/",
          "height": 34
        }
      },
      "cell_type": "code",
      "source": [
        "#Processing image information\n",
        "#reshaping\n",
        "#this assumes our data format\n",
        "#from keras import backend as k\n",
        "\n",
        "# input image dimensions\n",
        "img_rows, img_cols = 28, 28\n",
        "#For 3D data, \"channels_last\" assumes (conv_dim1, conv_dim2, conv_dim3, channels) while \n",
        "#\"channels_first\" assumes (channels, conv_dim1, conv_dim2, conv_dim3).\n",
        "if k.image_data_format() == 'channels_first':\n",
        "    X_train = X_train.reshape(X_train.shape[0], 1, img_rows, img_cols)\n",
        "    X_test = X_test.reshape(X_test.shape[0], 1, img_rows, img_cols)\n",
        "    input_shape = (1, img_rows, img_cols)\n",
        "else:\n",
        "    X_train = X_train.reshape(X_train.shape[0], img_rows, img_cols, 1)\n",
        "    X_test = X_test.reshape(X_test.shape[0], img_rows, img_cols, 1)\n",
        "    input_shape = (img_rows, img_cols, 1)\n",
        "#more reshaping\n",
        "X_train = X_train.astype('float32')\n",
        "X_test = X_test.astype('float32')\n",
        "X_train /= 255\n",
        "X_test /= 255\n",
        "print('X_train shape:', X_train.shape) \n",
        "#X_train shape should be: (60000, 28, 28, 1)"
      ],
      "execution_count": 21,
      "outputs": [
        {
          "output_type": "stream",
          "text": [
            "X_train shape: (60000, 28, 28, 1)\n"
          ],
          "name": "stdout"
        }
      ]
    },
    {
      "metadata": {
        "id": "Y9j0tZ33n-zk",
        "colab_type": "code",
        "outputId": "63746f1f-8b8b-4951-eef2-872c99c81eed",
        "colab": {
          "base_uri": "https://localhost:8080/",
          "height": 50
        }
      },
      "cell_type": "code",
      "source": [
        "print(X_train.shape[0], 'train samples, as stated above')\n",
        "print(X_test.shape[0], 'test samples')"
      ],
      "execution_count": 22,
      "outputs": [
        {
          "output_type": "stream",
          "text": [
            "60000 train samples, as stated above\n",
            "10000 test samples\n"
          ],
          "name": "stdout"
        }
      ]
    },
    {
      "metadata": {
        "id": "A1Dy6pgJvaua",
        "colab_type": "code",
        "outputId": "3a923441-396f-417c-8fc5-65977c3df586",
        "colab": {
          "base_uri": "https://localhost:8080/",
          "height": 34
        }
      },
      "cell_type": "code",
      "source": [
        "print(np.unique(y_train, return_counts=True))"
      ],
      "execution_count": 23,
      "outputs": [
        {
          "output_type": "stream",
          "text": [
            "(array([0, 1, 2, 3, 4, 5, 6, 7, 8, 9], dtype=uint8), array([5923, 6742, 5958, 6131, 5842, 5421, 5918, 6265, 5851, 5949]))\n"
          ],
          "name": "stdout"
        }
      ]
    },
    {
      "metadata": {
        "id": "7XO-1XK1jM8l",
        "colab_type": "code",
        "outputId": "36e722f6-ecee-414c-f084-131102b1cdd3",
        "colab": {
          "base_uri": "https://localhost:8080/",
          "height": 34
        }
      },
      "cell_type": "code",
      "source": [
        "num_category = 10\n",
        "# convert class vectors to binary class matrices\n",
        "y_train = keras.utils.to_categorical(y_train, num_category)\n",
        "y_test = keras.utils.to_categorical(y_test, num_category)\n",
        "y_train[0]"
      ],
      "execution_count": 24,
      "outputs": [
        {
          "output_type": "execute_result",
          "data": {
            "text/plain": [
              "array([0., 0., 0., 0., 0., 1., 0., 0., 0., 0.], dtype=float32)"
            ]
          },
          "metadata": {
            "tags": []
          },
          "execution_count": 24
        }
      ]
    },
    {
      "metadata": {
        "id": "sZ50SZDply7w",
        "colab_type": "code",
        "colab": {}
      },
      "cell_type": "code",
      "source": [
        "##model building\n",
        "from keras import layers\n",
        "model = keras.Sequential()\n",
        "#Conv2D = keras.layers.Conv2D\n",
        "#convolutional layer with rectified linear unit activation\n",
        "model.add(Conv2D(32, kernel_size=(3, 3),\n",
        "                 activation='relu',\n",
        "                 input_shape=input_shape))\n",
        "#32 convolution filters used each of size 3x3\n",
        "#again\n",
        "model.add(Conv2D(64, (3, 3), activation='relu'))\n",
        "#64 convolution filters used each of size 3x3\n",
        "#choose the best features via pooling\n",
        "model.add(keras.layers.MaxPooling2D(pool_size=(2, 2)))\n",
        "#randomly turn neurons on and off to improve convergence\n",
        "model.add(keras.layers.Dropout(0.25))\n",
        "#flatten since too many dimensions, we only want a classification output\n",
        "model.add(keras.layers.Flatten())\n",
        "#fully connected to get all relevant data\n",
        "model.add(keras.layers.Dense(128, activation='relu'))\n",
        "#one more dropout for convergence' sake :) \n",
        "model.add(keras.layers.Dropout(0.5))\n",
        "#output a softmax to squash the matrix into output probabilities\n",
        "model.add(keras.layers.Dense(num_category, activation='softmax'))"
      ],
      "execution_count": 0,
      "outputs": []
    },
    {
      "metadata": {
        "id": "fzPPh1vZmCpN",
        "colab_type": "code",
        "colab": {}
      },
      "cell_type": "code",
      "source": [
        "#Adaptive learning rate (adaDelta) is a popular form of gradient descent rivaled only by adam and adagrad\n",
        "#categorical ce since we have multiple classes (10) \n",
        "model.compile(loss=keras.losses.categorical_crossentropy,\n",
        "              optimizer=keras.optimizers.Adadelta(),\n",
        "              metrics=['accuracy'])"
      ],
      "execution_count": 0,
      "outputs": []
    },
    {
      "metadata": {
        "id": "eIH_Rzj_mxWo",
        "colab_type": "code",
        "outputId": "7d117c15-8aa7-4a04-bedf-e2b03624831f",
        "colab": {
          "base_uri": "https://localhost:8080/",
          "height": 370
        }
      },
      "cell_type": "code",
      "source": [
        "batch_size = 128\n",
        "num_epoch = 10\n",
        "#model training\n",
        "model_log = model.fit(X_train, y_train,\n",
        "          batch_size=batch_size,\n",
        "          epochs=num_epoch,\n",
        "          verbose=1,\n",
        "          validation_data=(X_test, y_test))"
      ],
      "execution_count": 27,
      "outputs": [
        {
          "output_type": "stream",
          "text": [
            "Train on 60000 samples, validate on 10000 samples\n",
            "Epoch 1/10\n",
            "60000/60000 [==============================] - 13s 220us/step - loss: 0.2640 - acc: 0.9205 - val_loss: 0.0621 - val_acc: 0.9792\n",
            "Epoch 2/10\n",
            "60000/60000 [==============================] - 9s 146us/step - loss: 0.0925 - acc: 0.9721 - val_loss: 0.0390 - val_acc: 0.9878\n",
            "Epoch 3/10\n",
            "60000/60000 [==============================] - 9s 149us/step - loss: 0.0667 - acc: 0.9801 - val_loss: 0.0353 - val_acc: 0.9884\n",
            "Epoch 4/10\n",
            "60000/60000 [==============================] - 9s 146us/step - loss: 0.0560 - acc: 0.9838 - val_loss: 0.0346 - val_acc: 0.9885\n",
            "Epoch 5/10\n",
            "60000/60000 [==============================] - 9s 146us/step - loss: 0.0461 - acc: 0.9860 - val_loss: 0.0314 - val_acc: 0.9897\n",
            "Epoch 6/10\n",
            "60000/60000 [==============================] - 9s 146us/step - loss: 0.0420 - acc: 0.9877 - val_loss: 0.0260 - val_acc: 0.9903\n",
            "Epoch 7/10\n",
            "60000/60000 [==============================] - 9s 146us/step - loss: 0.0368 - acc: 0.9889 - val_loss: 0.0270 - val_acc: 0.9912\n",
            "Epoch 8/10\n",
            "60000/60000 [==============================] - 9s 147us/step - loss: 0.0346 - acc: 0.9895 - val_loss: 0.0272 - val_acc: 0.9909\n",
            "Epoch 9/10\n",
            "60000/60000 [==============================] - 9s 147us/step - loss: 0.0326 - acc: 0.9895 - val_loss: 0.0255 - val_acc: 0.9917\n",
            "Epoch 10/10\n",
            "60000/60000 [==============================] - 9s 146us/step - loss: 0.0303 - acc: 0.9907 - val_loss: 0.0277 - val_acc: 0.9911\n"
          ],
          "name": "stdout"
        }
      ]
    },
    {
      "metadata": {
        "id": "gRHmmEDNm0Dz",
        "colab_type": "code",
        "outputId": "c0cb5a7e-3aa4-4332-af72-53a3188e1f1c",
        "colab": {
          "base_uri": "https://localhost:8080/",
          "height": 50
        }
      },
      "cell_type": "code",
      "source": [
        "score = model.evaluate(X_test, y_test, verbose=0)\n",
        "print('Test loss:', score[0]) #Test loss: 0.0296396646054\n",
        "print('Test accuracy:', score[1]) #Test accuracy: 0.9904"
      ],
      "execution_count": 28,
      "outputs": [
        {
          "output_type": "stream",
          "text": [
            "Test loss: 0.027673578578275192\n",
            "Test accuracy: 0.9911\n"
          ],
          "name": "stdout"
        }
      ]
    },
    {
      "metadata": {
        "id": "MAQJn7Ofnd7T",
        "colab_type": "code",
        "colab": {}
      },
      "cell_type": "code",
      "source": [
        "# WHAT !!!  lol  lol\n",
        "#  Test loss: 2.3010077346801756\n",
        "#  Test accuracy: 0.1135\n",
        "# Let me run again...  Going up from the top\n"
      ],
      "execution_count": 0,
      "outputs": []
    },
    {
      "metadata": {
        "id": "inUgdC-8qwlV",
        "colab_type": "code",
        "outputId": "433c7a08-8bdf-435c-960f-138f792c3e2d",
        "colab": {
          "base_uri": "https://localhost:8080/",
          "height": 401
        }
      },
      "cell_type": "code",
      "source": [
        "import os\n",
        "# plotting the metrics\n",
        "fig = plt.figure()\n",
        "plt.subplot(2,1,1)\n",
        "plt.plot(model_log.history['acc'])\n",
        "plt.plot(model_log.history['val_acc'])\n",
        "plt.title('model accuracy')\n",
        "plt.ylabel('accuracy')\n",
        "plt.xlabel('epoch')\n",
        "plt.legend(['train', 'test'], loc='lower right')\n",
        "\n",
        "plt.subplot(2,1,2)\n",
        "plt.plot(model_log.history['loss'])\n",
        "plt.plot(model_log.history['val_loss'])\n",
        "plt.title('model loss')\n",
        "plt.ylabel('loss')\n",
        "plt.xlabel('epoch')\n",
        "plt.legend(['train', 'test'], loc='upper right')\n",
        "\n",
        "plt.tight_layout()\n",
        "\n",
        "#fig"
      ],
      "execution_count": 29,
      "outputs": [
        {
          "output_type": "display_data",
          "data": {
            "image/png": "[encoded data removed]",
            "text/plain": [
              "<Figure size 576x396 with 2 Axes>"
            ]
          },
          "metadata": {
            "tags": []
          }
        }
      ]
    },
    {
      "metadata": {
        "id": "7AWAeb-4q8I5",
        "colab_type": "text"
      },
      "cell_type": "markdown",
      "source": [
        "This part I do not understand... The saving as a json file...\n",
        "Nevertheless, let's follow the recommendations to the dot."
      ]
    },
    {
      "metadata": {
        "id": "8hlwRjOgq1q6",
        "colab_type": "code",
        "outputId": "38b6a1ac-5589-4266-9e63-9564e4815bd5",
        "colab": {
          "base_uri": "https://localhost:8080/",
          "height": 34
        }
      },
      "cell_type": "code",
      "source": [
        "#Save the model\n",
        "# serialize model to JSON\n",
        "model_digit_json = model.to_json()\n",
        "with open(\"model_digit.json\", \"w\") as json_file:\n",
        "    json_file.write(model_digit_json)\n",
        "# serialize weights to HDF5\n",
        "model.save_weights(\"model_digit.h5\")\n",
        "print(\"Saved model to disk\")"
      ],
      "execution_count": 30,
      "outputs": [
        {
          "output_type": "stream",
          "text": [
            "Saved model to disk\n"
          ],
          "name": "stdout"
        }
      ]
    },
    {
      "metadata": {
        "id": "dA7Ow7bfrqlQ",
        "colab_type": "code",
        "outputId": "e9dee986-760d-4687-c6f0-047e02089f6b",
        "colab": {
          "base_uri": "https://localhost:8080/",
          "height": 34
        }
      },
      "cell_type": "code",
      "source": [
        "!pwd"
      ],
      "execution_count": 35,
      "outputs": [
        {
          "output_type": "stream",
          "text": [
            "/content/gdrive/My Drive\n"
          ],
          "name": "stdout"
        }
      ]
    },
    {
      "metadata": {
        "id": "4ih6ucOqScb0",
        "colab_type": "code",
        "colab": {
          "base_uri": "https://localhost:8080/",
          "height": 34
        },
        "outputId": "4d01eabd-f5ce-401e-db2c-1fa8bcee1f26"
      },
      "cell_type": "code",
      "source": [
        "ls *h5"
      ],
      "execution_count": 37,
      "outputs": [
        {
          "output_type": "stream",
          "text": [
            "model_digit.h5\n"
          ],
          "name": "stdout"
        }
      ]
    },
    {
      "metadata": {
        "id": "dWqN64zqrw9D",
        "colab_type": "code",
        "outputId": "1780edf1-28d0-441b-946f-b439edd226c0",
        "colab": {
          "base_uri": "https://localhost:8080/",
          "height": 34
        }
      },
      "cell_type": "code",
      "source": [
        "mv 'model_digit.h5' 'appSDK/model_digit.h5'\n",
        "mv 'model_digit.json' 'appSDK/model_digit.json'\n",
        "mv 'sample_data' 'appSDK/sample_data'"
      ],
      "execution_count": 42,
      "outputs": [
        {
          "output_type": "stream",
          "text": [
            "mv: cannot stat 'sample_data': No such file or directory\n"
          ],
          "name": "stdout"
        }
      ]
    },
    {
      "metadata": {
        "id": "_FAVeFG19rYQ",
        "colab_type": "code",
        "outputId": "ec07a081-8fed-4f44-acf9-17ff9171506b",
        "colab": {
          "base_uri": "https://localhost:8080/",
          "height": 34
        }
      },
      "cell_type": "code",
      "source": [
        "# Let's go into our appSDK folder\n",
        "# and see if things were moved successfully \n",
        "import os\n",
        "os.chdir('appSDK')\n",
        "!pwd"
      ],
      "execution_count": 44,
      "outputs": [
        {
          "output_type": "stream",
          "text": [
            "/content/gdrive/My Drive/appSDK\n"
          ],
          "name": "stdout"
        }
      ]
    },
    {
      "metadata": {
        "id": "zBkP0bhKTzaQ",
        "colab_type": "code",
        "colab": {
          "base_uri": "https://localhost:8080/",
          "height": 84
        },
        "outputId": "ad1915ba-a932-4544-e803-b2a488d9ecaf"
      },
      "cell_type": "code",
      "source": [
        "ls"
      ],
      "execution_count": 45,
      "outputs": [
        {
          "output_type": "stream",
          "text": [
            "client.py              mnist_cnn.py.gdoc  sdk4.png\n",
            "custom_model.py        model_digit.h5     seven.png\n",
            "demoDeployModel.ipynb  model_digit.json   tutorialFreeGPU_Jan2019.ipynb\n",
            "mnist_cnn.py           \u001b[0m\u001b[01;34msample_data\u001b[0m/       ValeNumberML2.png\n"
          ],
          "name": "stdout"
        }
      ]
    },
    {
      "metadata": {
        "id": "-FFHDuNsUHhh",
        "colab_type": "code",
        "colab": {}
      },
      "cell_type": "code",
      "source": [
        ""
      ],
      "execution_count": 0,
      "outputs": []
    },
    {
      "metadata": {
        "id": "XMk1TpHGUIPK",
        "colab_type": "text"
      },
      "cell_type": "markdown",
      "source": [
        "# Deploying the Model into Production\n",
        "## This is a very difficult task, and Colab can't do\n",
        "## because it does not support docker  :("
      ]
    },
    {
      "metadata": {
        "id": "ElW0u-SQ2-Vq",
        "colab_type": "code",
        "outputId": "48cf4fbe-c2c9-4f9e-cab3-9642e838a0af",
        "colab": {
          "base_uri": "https://localhost:8080/",
          "height": 151
        }
      },
      "cell_type": "code",
      "source": [
        "!git clone --recursive https://github.com/tensorflow/serving"
      ],
      "execution_count": 46,
      "outputs": [
        {
          "output_type": "stream",
          "text": [
            "Cloning into 'serving'...\n",
            "remote: Enumerating objects: 47, done.\u001b[K\n",
            "remote: Counting objects: 100% (47/47), done.\u001b[K\n",
            "remote: Compressing objects: 100% (41/41), done.\u001b[K\n",
            "remote: Total 14782 (delta 35), reused 15 (delta 6), pack-reused 14735\u001b[K\n",
            "Receiving objects: 100% (14782/14782), 4.17 MiB | 3.55 MiB/s, done.\n",
            "Resolving deltas: 100% (10841/10841), done.\n",
            "Checking out files: 100% (460/460), done.\n"
          ],
          "name": "stdout"
        }
      ]
    },
    {
      "metadata": {
        "id": "AsURQFgV3GZ2",
        "colab_type": "code",
        "outputId": "56c0fe1e-0a1d-4c83-b4a3-4954ffbb37a4",
        "colab": {
          "base_uri": "https://localhost:8080/",
          "height": 72
        }
      },
      "cell_type": "code",
      "source": [
        "%cd serving\n",
        "!ls"
      ],
      "execution_count": 0,
      "outputs": [
        {
          "output_type": "stream",
          "text": [
            "/content/serving\n",
            "AUTHORS\t\t LICENSE    RELEASE.md\t\tthird_party  WORKSPACE\n",
            "CONTRIBUTING.md  README.md  tensorflow_serving\ttools\n"
          ],
          "name": "stdout"
        }
      ]
    },
    {
      "metadata": {
        "id": "2UqQfuJV26jj",
        "colab_type": "code",
        "outputId": "753df24a-1cdd-4e38-a27e-a01c50d0cc77",
        "colab": {
          "base_uri": "https://localhost:8080/",
          "height": 34
        }
      },
      "cell_type": "code",
      "source": [
        "!docker build --pull -t $USER/tensorflow-serving-devel -f tensorflow_serving/tools/docker/Dockerfile.devel ."
      ],
      "execution_count": 47,
      "outputs": [
        {
          "output_type": "stream",
          "text": [
            "/bin/bash: docker: command not found\n"
          ],
          "name": "stdout"
        }
      ]
    },
    {
      "metadata": {
        "id": "U1_DIKM6UV6k",
        "colab_type": "code",
        "colab": {}
      },
      "cell_type": "code",
      "source": [
        "# Docker not found :("
      ],
      "execution_count": 0,
      "outputs": []
    },
    {
      "metadata": {
        "id": "Sl01lSBt5M4j",
        "colab_type": "code",
        "colab": {}
      },
      "cell_type": "code",
      "source": [
        "#https://www.youtube.com/watch?v=T_afaArR0E8&vl=en"
      ],
      "execution_count": 0,
      "outputs": []
    },
    {
      "metadata": {
        "id": "v4a4tR4T7SNt",
        "colab_type": "code",
        "outputId": "8681bd55-8125-4c4c-9bea-46c6331bc8dd",
        "colab": {
          "base_uri": "https://localhost:8080/",
          "height": 34
        }
      },
      "cell_type": "code",
      "source": [
        "import tensorflow as tf\n",
        "tf.test.gpu_device_name()\n",
        "# If the response is empty, like this: '' \n",
        "# then I am only using CPU"
      ],
      "execution_count": 48,
      "outputs": [
        {
          "output_type": "execute_result",
          "data": {
            "text/plain": [
              "'/device:GPU:0'"
            ]
          },
          "metadata": {
            "tags": []
          },
          "execution_count": 48
        }
      ]
    },
    {
      "metadata": {
        "id": "DD8nxI37841y",
        "colab_type": "code",
        "outputId": "31c15fe1-d9ea-4cc3-a7d2-8682ddc4a51b",
        "colab": {
          "base_uri": "https://localhost:8080/",
          "height": 470
        }
      },
      "cell_type": "code",
      "source": [
        "# Let's check which GPU  \n",
        "# BTW, the only one Colab has is Tesla K80\n",
        "from tensorflow.python.client import device_lib\n",
        "device_lib.list_local_devices()"
      ],
      "execution_count": 49,
      "outputs": [
        {
          "output_type": "execute_result",
          "data": {
            "text/plain": [
              "[name: \"/device:CPU:0\"\n",
              " device_type: \"CPU\"\n",
              " memory_limit: 268435456\n",
              " locality {\n",
              " }\n",
              " incarnation: 9155122221622989396, name: \"/device:XLA_CPU:0\"\n",
              " device_type: \"XLA_CPU\"\n",
              " memory_limit: 17179869184\n",
              " locality {\n",
              " }\n",
              " incarnation: 3711437516530450815\n",
              " physical_device_desc: \"device: XLA_CPU device\", name: \"/device:XLA_GPU:0\"\n",
              " device_type: \"XLA_GPU\"\n",
              " memory_limit: 17179869184\n",
              " locality {\n",
              " }\n",
              " incarnation: 15292955908235277963\n",
              " physical_device_desc: \"device: XLA_GPU device\", name: \"/device:GPU:0\"\n",
              " device_type: \"GPU\"\n",
              " memory_limit: 11281553818\n",
              " locality {\n",
              "   bus_id: 1\n",
              "   links {\n",
              "   }\n",
              " }\n",
              " incarnation: 15117557106503538006\n",
              " physical_device_desc: \"device: 0, name: Tesla K80, pci bus id: 0000:00:04.0, compute capability: 3.7\"]"
            ]
          },
          "metadata": {
            "tags": []
          },
          "execution_count": 49
        }
      ]
    },
    {
      "metadata": {
        "id": "CxW25qg89Zow",
        "colab_type": "code",
        "colab": {}
      },
      "cell_type": "code",
      "source": [
        "# To restart this notebook\n",
        "# use this code: !kill -9 -1\n",
        "!kill -9 -1"
      ],
      "execution_count": 0,
      "outputs": []
    },
    {
      "metadata": {
        "id": "apWpUpKM-YQw",
        "colab_type": "code",
        "colab": {}
      },
      "cell_type": "code",
      "source": [
        "#References:\n",
        "\n",
        "#https://medium.com/deep-learning-turkey/google-colab-free-gpu-tutorial-e113627b9f5d"
      ],
      "execution_count": 0,
      "outputs": []
    },
    {
      "metadata": {
        "id": "us9X-WuyiTe3",
        "colab_type": "code",
        "colab": {}
      },
      "cell_type": "code",
      "source": [
        ""
      ],
      "execution_count": 0,
      "outputs": []
    },
    {
      "metadata": {
        "id": "RqZef18jiTig",
        "colab_type": "code",
        "colab": {}
      },
      "cell_type": "code",
      "source": [
        "import numpy as np\n",
        "from PIL import Image"
      ],
      "execution_count": 0,
      "outputs": []
    },
    {
      "metadata": {
        "id": "XZBrqZpnjdCZ",
        "colab_type": "code",
        "colab": {}
      },
      "cell_type": "code",
      "source": [
        "img = np.invert(Image.open('seven.png').convert('L')).ravel()"
      ],
      "execution_count": 0,
      "outputs": []
    },
    {
      "metadata": {
        "id": "d0ZXckxgkrsg",
        "colab_type": "code",
        "outputId": "3f921e08-0d6a-4b7b-feae-cb4a2402742e",
        "colab": {
          "base_uri": "https://localhost:8080/",
          "height": 524
        }
      },
      "cell_type": "code",
      "source": [
        "from tensorflow.examples.tutorials.mnist import input_data\n",
        "mnist = input_data.read_data_sets(\"MNIST_data/\", one_hot=True) "
      ],
      "execution_count": 53,
      "outputs": [
        {
          "output_type": "stream",
          "text": [
            "WARNING:tensorflow:From <ipython-input-53-0e7caabe40f9>:2: read_data_sets (from tensorflow.contrib.learn.python.learn.datasets.mnist) is deprecated and will be removed in a future version.\n",
            "Instructions for updating:\n",
            "Please use alternatives such as official/mnist/dataset.py from tensorflow/models.\n",
            "WARNING:tensorflow:From /usr/local/lib/python3.6/dist-packages/tensorflow/contrib/learn/python/learn/datasets/mnist.py:260: maybe_download (from tensorflow.contrib.learn.python.learn.datasets.base) is deprecated and will be removed in a future version.\n",
            "Instructions for updating:\n",
            "Please write your own downloading logic.\n",
            "WARNING:tensorflow:From /usr/local/lib/python3.6/dist-packages/tensorflow/contrib/learn/python/learn/datasets/base.py:252: _internal_retry.<locals>.wrap.<locals>.wrapped_fn (from tensorflow.contrib.learn.python.learn.datasets.base) is deprecated and will be removed in a future version.\n",
            "Instructions for updating:\n",
            "Please use urllib or similar directly.\n",
            "Successfully downloaded train-images-idx3-ubyte.gz 9912422 bytes.\n",
            "WARNING:tensorflow:From /usr/local/lib/python3.6/dist-packages/tensorflow/contrib/learn/python/learn/datasets/mnist.py:262: extract_images (from tensorflow.contrib.learn.python.learn.datasets.mnist) is deprecated and will be removed in a future version.\n",
            "Instructions for updating:\n",
            "Please use tf.data to implement this functionality.\n",
            "Extracting MNIST_data/train-images-idx3-ubyte.gz\n",
            "Successfully downloaded train-labels-idx1-ubyte.gz 28881 bytes.\n",
            "WARNING:tensorflow:From /usr/local/lib/python3.6/dist-packages/tensorflow/contrib/learn/python/learn/datasets/mnist.py:267: extract_labels (from tensorflow.contrib.learn.python.learn.datasets.mnist) is deprecated and will be removed in a future version.\n",
            "Instructions for updating:\n",
            "Please use tf.data to implement this functionality.\n",
            "Extracting MNIST_data/train-labels-idx1-ubyte.gz\n",
            "WARNING:tensorflow:From /usr/local/lib/python3.6/dist-packages/tensorflow/contrib/learn/python/learn/datasets/mnist.py:110: dense_to_one_hot (from tensorflow.contrib.learn.python.learn.datasets.mnist) is deprecated and will be removed in a future version.\n",
            "Instructions for updating:\n",
            "Please use tf.one_hot on tensors.\n",
            "Successfully downloaded t10k-images-idx3-ubyte.gz 1648877 bytes.\n",
            "Extracting MNIST_data/t10k-images-idx3-ubyte.gz\n",
            "Successfully downloaded t10k-labels-idx1-ubyte.gz 4542 bytes.\n",
            "Extracting MNIST_data/t10k-labels-idx1-ubyte.gz\n",
            "WARNING:tensorflow:From /usr/local/lib/python3.6/dist-packages/tensorflow/contrib/learn/python/learn/datasets/mnist.py:290: DataSet.__init__ (from tensorflow.contrib.learn.python.learn.datasets.mnist) is deprecated and will be removed in a future version.\n",
            "Instructions for updating:\n",
            "Please use alternatives such as official/mnist/dataset.py from tensorflow/models.\n"
          ],
          "name": "stdout"
        }
      ]
    },
    {
      "metadata": {
        "id": "VdOzfHDAkrwh",
        "colab_type": "code",
        "colab": {}
      },
      "cell_type": "code",
      "source": [
        "n_train = mnist.train.num_examples # 55,000\n",
        "n_validation = mnist.validation.num_examples # 5000\n",
        "n_test = mnist.test.num_examples # 10,000"
      ],
      "execution_count": 0,
      "outputs": []
    },
    {
      "metadata": {
        "id": "StT3pOuIkr04",
        "colab_type": "code",
        "colab": {}
      },
      "cell_type": "code",
      "source": [
        "n_input = 784   # input layer (28x28 pixels)\n",
        "n_hidden1 = 512 # 1st hidden layer\n",
        "n_hidden2 = 256 # 2nd hidden layer\n",
        "n_hidden3 = 128 # 3rd hidden layer\n",
        "n_output = 10   # output layer (0-9 digits)\n",
        "learning_rate = 1e-4\n",
        "n_iterations = 1000\n",
        "batch_size = 128\n",
        "dropout = 0.5"
      ],
      "execution_count": 0,
      "outputs": []
    },
    {
      "metadata": {
        "id": "7Ikhxra1kr8F",
        "colab_type": "code",
        "colab": {}
      },
      "cell_type": "code",
      "source": [
        "X = tf.placeholder(\"float\", [None, n_input])\n",
        "Y = tf.placeholder(\"float\", [None, n_output])\n",
        "keep_prob = tf.placeholder(tf.float32) "
      ],
      "execution_count": 0,
      "outputs": []
    },
    {
      "metadata": {
        "id": "Gz0w4_5AksAj",
        "colab_type": "code",
        "colab": {}
      },
      "cell_type": "code",
      "source": [
        "weights = {\n",
        "    'w1': tf.Variable(tf.truncated_normal([n_input, n_hidden1], stddev=0.1)),\n",
        "    'w2': tf.Variable(tf.truncated_normal([n_hidden1, n_hidden2], stddev=0.1)),\n",
        "    'w3': tf.Variable(tf.truncated_normal([n_hidden2, n_hidden3], stddev=0.1)),\n",
        "    'out': tf.Variable(tf.truncated_normal([n_hidden3, n_output], stddev=0.1)),\n",
        "}"
      ],
      "execution_count": 0,
      "outputs": []
    },
    {
      "metadata": {
        "id": "n93ON0sVlIn7",
        "colab_type": "code",
        "colab": {}
      },
      "cell_type": "code",
      "source": [
        "biases = {\n",
        "    'b1': tf.Variable(tf.constant(0.1, shape=[n_hidden1])),\n",
        "    'b2': tf.Variable(tf.constant(0.1, shape=[n_hidden2])),\n",
        "    'b3': tf.Variable(tf.constant(0.1, shape=[n_hidden3])),\n",
        "    'out': tf.Variable(tf.constant(0.1, shape=[n_output]))\n",
        "}"
      ],
      "execution_count": 0,
      "outputs": []
    },
    {
      "metadata": {
        "id": "c7vorRVmlIwR",
        "colab_type": "code",
        "colab": {}
      },
      "cell_type": "code",
      "source": [
        "layer_1 = tf.add(tf.matmul(X, weights['w1']), biases['b1'])\n",
        "layer_2 = tf.add(tf.matmul(layer_1, weights['w2']), biases['b2'])\n",
        "layer_3 = tf.add(tf.matmul(layer_2, weights['w3']), biases['b3'])\n",
        "layer_drop = tf.nn.dropout(layer_3, keep_prob)\n",
        "output_layer = tf.matmul(layer_3, weights['out']) + biases['out']"
      ],
      "execution_count": 0,
      "outputs": []
    },
    {
      "metadata": {
        "id": "PiflXtw2lItn",
        "colab_type": "code",
        "outputId": "f6840fff-2bb0-4216-e92a-ad5afa90732b",
        "colab": {
          "base_uri": "https://localhost:8080/",
          "height": 171
        }
      },
      "cell_type": "code",
      "source": [
        "cross_entropy = tf.reduce_mean(tf.nn.softmax_cross_entropy_with_logits(labels=Y, logits=output_layer))\n",
        "train_step = tf.train.AdamOptimizer(1e-4).minimize(cross_entropy)"
      ],
      "execution_count": 60,
      "outputs": [
        {
          "output_type": "stream",
          "text": [
            "WARNING:tensorflow:From <ipython-input-60-812430f7e244>:1: softmax_cross_entropy_with_logits (from tensorflow.python.ops.nn_ops) is deprecated and will be removed in a future version.\n",
            "Instructions for updating:\n",
            "\n",
            "Future major versions of TensorFlow will allow gradients to flow\n",
            "into the labels input on backprop by default.\n",
            "\n",
            "See `tf.nn.softmax_cross_entropy_with_logits_v2`.\n",
            "\n"
          ],
          "name": "stdout"
        }
      ]
    },
    {
      "metadata": {
        "id": "X11rRPBGlQv-",
        "colab_type": "code",
        "colab": {}
      },
      "cell_type": "code",
      "source": [
        "correct_pred = tf.equal(tf.argmax(output_layer, 1), tf.argmax(Y, 1))\n",
        "accuracy = tf.reduce_mean(tf.cast(correct_pred, tf.float32))"
      ],
      "execution_count": 0,
      "outputs": []
    },
    {
      "metadata": {
        "id": "VR55sb7YlQ2c",
        "colab_type": "code",
        "colab": {}
      },
      "cell_type": "code",
      "source": [
        "init = tf.global_variables_initializer()\n",
        "sess = tf.Session()\n",
        "sess.run(init)"
      ],
      "execution_count": 0,
      "outputs": []
    },
    {
      "metadata": {
        "id": "qTRM58eTlQ6u",
        "colab_type": "code",
        "outputId": "27b31ca4-d7e7-448d-840b-d20f6aa97932",
        "colab": {
          "base_uri": "https://localhost:8080/",
          "height": 185
        }
      },
      "cell_type": "code",
      "source": [
        "# train on mini batches\n",
        "for i in range(n_iterations):\n",
        "    batch_x, batch_y = mnist.train.next_batch(batch_size)\n",
        "    sess.run(train_step, feed_dict={X: batch_x, Y: batch_y, keep_prob:dropout})\n",
        "\n",
        "    # print loss and accuracy (per minibatch)\n",
        "    if i%100==0:\n",
        "        minibatch_loss, minibatch_accuracy = sess.run([cross_entropy, accuracy], feed_dict={X: batch_x, Y: batch_y, keep_prob:1.0})\n",
        "        print(\"Iteration\", str(i), \"\\t| Loss =\", str(minibatch_loss), \"\\t| Accuracy =\", str(minibatch_accuracy))"
      ],
      "execution_count": 63,
      "outputs": [
        {
          "output_type": "stream",
          "text": [
            "Iteration 0 \t| Loss = 3.396916 \t| Accuracy = 0.140625\n",
            "Iteration 100 \t| Loss = 0.37409624 \t| Accuracy = 0.9140625\n",
            "Iteration 200 \t| Loss = 0.3337822 \t| Accuracy = 0.875\n",
            "Iteration 300 \t| Loss = 0.33855408 \t| Accuracy = 0.890625\n",
            "Iteration 400 \t| Loss = 0.3903952 \t| Accuracy = 0.8671875\n",
            "Iteration 500 \t| Loss = 0.28352693 \t| Accuracy = 0.9375\n",
            "Iteration 600 \t| Loss = 0.28488943 \t| Accuracy = 0.9140625\n",
            "Iteration 700 \t| Loss = 0.20667103 \t| Accuracy = 0.9375\n",
            "Iteration 800 \t| Loss = 0.22423747 \t| Accuracy = 0.9296875\n",
            "Iteration 900 \t| Loss = 0.43030754 \t| Accuracy = 0.8671875\n"
          ],
          "name": "stdout"
        }
      ]
    },
    {
      "metadata": {
        "id": "z61YlEdilIrr",
        "colab_type": "code",
        "outputId": "a062701c-5f6e-4534-b6d9-f5088b7e1d25",
        "colab": {
          "base_uri": "https://localhost:8080/",
          "height": 50
        }
      },
      "cell_type": "code",
      "source": [
        "test_accuracy = sess.run(accuracy, feed_dict={X: mnist.test.images, Y: mnist.test.labels, keep_prob:1.0})\n",
        "print(\"\\nAccuracy on test set:\", test_accuracy)"
      ],
      "execution_count": 64,
      "outputs": [
        {
          "output_type": "stream",
          "text": [
            "\n",
            "Accuracy on test set: 0.9148\n"
          ],
          "name": "stdout"
        }
      ]
    },
    {
      "metadata": {
        "id": "VRmVUrO8joYA",
        "colab_type": "code",
        "outputId": "39d83c9c-a49e-441a-911f-2d252eadb70b",
        "colab": {
          "base_uri": "https://localhost:8080/",
          "height": 34
        }
      },
      "cell_type": "code",
      "source": [
        "prediction = sess.run(tf.argmax(output_layer,1), feed_dict={X: [img]})\n",
        "print (\"Prediction for test image:\", np.squeeze(prediction))"
      ],
      "execution_count": 65,
      "outputs": [
        {
          "output_type": "stream",
          "text": [
            "Prediction for test image: 6\n"
          ],
          "name": "stdout"
        }
      ]
    },
    {
      "metadata": {
        "id": "1khFO8urj2mx",
        "colab_type": "code",
        "colab": {}
      },
      "cell_type": "code",
      "source": [
        "img2 = np.invert(Image.open('sdk4.png').convert('L')).ravel()"
      ],
      "execution_count": 0,
      "outputs": []
    },
    {
      "metadata": {
        "id": "zX2n7S9vmWCa",
        "colab_type": "code",
        "outputId": "06208e2c-90b4-4140-b594-61626f33c913",
        "colab": {
          "base_uri": "https://localhost:8080/",
          "height": 34
        }
      },
      "cell_type": "code",
      "source": [
        "prediction = sess.run(tf.argmax(output_layer,1), feed_dict={X: [img2]})\n",
        "print (\"Prediction for test image:\", np.squeeze(prediction))"
      ],
      "execution_count": 76,
      "outputs": [
        {
          "output_type": "stream",
          "text": [
            "Prediction for test image: 7\n"
          ],
          "name": "stdout"
        }
      ]
    },
    {
      "metadata": {
        "id": "agDCHKL0XrSL",
        "colab_type": "code",
        "colab": {
          "base_uri": "https://localhost:8080/",
          "height": 1042
        },
        "outputId": "51d6b16d-f0f0-4ab6-ea15-376802ebeebe"
      },
      "cell_type": "code",
      "source": [
        "img2"
      ],
      "execution_count": 77,
      "outputs": [
        {
          "output_type": "execute_result",
          "data": {
            "text/plain": [
              "array([  0,   0,   0,   0,   0,   0,   0,   0,   0,   0,   0,   0,   0,\n",
              "         0,   0,   0,   0,   0,   0,   0,   0,   0,   0,   0,   0,   0,\n",
              "         0,   0,   0,   0,   0,   0,   0,   0,   0,   0,   0,   0,   0,\n",
              "         0,   0,   0,   0,   0,   0,   0,   0,   0,   0,   0,   0,   0,\n",
              "         0,   0,   0,   0,   0,   0,   0,   0,   0,   0,   0,   0,   0,\n",
              "         0,   0,   0,   0,   0,   0,   0,   0,   0,   0,   0,   0,   0,\n",
              "         0,   0,   0,   0,   0,   0,   0,   0,   0,   0,   0,   0,   0,\n",
              "         0,   0,   0,   0,   0,   0,   0,   0,   0,   0,   0,   0,   0,\n",
              "         0,   0,   0,   0,   0,   0,   0,   0,   0,   0,   0,   0,   0,\n",
              "         0,   0,   0,   0,   0,   0,   0,   0,   0,   0,   0,   0,   0,\n",
              "         0,   0,   0,   0,   0,   0,   0,   0,   0,   0,   0,   0,   0,\n",
              "         0,   0,   0,   0,   0,   0,   0,   0,   0,   0,   0,   0,   0,\n",
              "         0,   0,   0,   0,   0,   0,   0,   0,   0,   0,   0,   0,   0,\n",
              "         0,   0,   0,   0,   0,   0,   0,   0,   0,   0,   0,   0,   0,\n",
              "         0,   0,   0,   0,   0,   0,   0,   0,   0,   0,   0,   0,   0,\n",
              "         0,   0,   0,   0,   0,   0,   0,   0,   0,   0,   0,   0,   0,\n",
              "         0,   0,   0,   0,   0,   0,   0,   0,   0,   0,   0,   0,   0,\n",
              "         0,   0,   0,   0,   0,   0,   0,   0,   0,   0,   0,   0,   0,\n",
              "         0,   0,   0,   0,   0,   0,   0,   0,   0,   0,   0,   0,   0,\n",
              "         0,   0,   0,   0,   0,   0,   0,   0,   0,   0,   0,   0,   0,\n",
              "         0,   0,   0,   0,   0,   0,   0,   0,   0,   0,   0,  99, 255,\n",
              "       205,  11,   0,   0,   0,   0,   0,   0,   0,   0,   0,   0,   0,\n",
              "         0,   0,   0,   0,   0,   0,   0,   0,   0,   0,   0,   0,  34,\n",
              "       232, 159, 205,  11,   0,   0,   0,   0,   0,   0,   0,   0,   0,\n",
              "         0,   0,   0,   0,   0,   0,   0,   0,   0,   0,   0,   0,   0,\n",
              "         5, 178, 129,  99, 205,  11,   0,   0,   0,   0,   0,   0,   0,\n",
              "         0,   0,   0,   0,   0,   0,   0,   0,   0,   0,   0,   0,   0,\n",
              "         0,   0,  99, 244,  22,  99, 205,  11,   0,   0,   0,   0,   0,\n",
              "         0,   0,   0,   0,   0,   0,   0,   0,   0,   0,   0,   0,   0,\n",
              "         0,   0,   0,  34, 238,  89,   0,  99, 205,  11,   0,   0,   0,\n",
              "         0,   0,   0,   0,   0,   0,   0,   0,   0,   0,   0,   0,   0,\n",
              "         0,   0,   0,   0,   0, 141, 175,   0,   0,  99, 205,  11,   0,\n",
              "         0,   0,   0,   0,   0,   0,   0,   0,   0,   0,   0,   0,   0,\n",
              "         0,   0,   0,   0,   0,   0,  61, 244,  22,   0,   0,  99, 205,\n",
              "        11,   0,   0,   0,   0,   0,   0,   0,   0,   0,   0,   0,   0,\n",
              "         0,   0,   0,   0,   0,   0,   0,   0, 141, 255, 255, 255, 255,\n",
              "       255, 255, 255, 129,   0,   0,   0,   0,   0,   0,   0,   0,   0,\n",
              "         0,   0,   0,   0,   0,   0,   0,   0,   0,   0,   0,   0,   0,\n",
              "         0,   0,  99, 205,  11,   0,   0,   0,   0,   0,   0,   0,   0,\n",
              "         0,   0,   0,   0,   0,   0,   0,   0,   0,   0,   0,   0,   0,\n",
              "         0,   0,   0,   0,  99, 205,  11,   0,   0,   0,   0,   0,   0,\n",
              "         0,   0,   0,   0,   0,   0,   0,   0,   0,   0,   0,   0,   0,\n",
              "         0,   0,   0,   0,   0,   0,  99, 205,  11,   0,   0,   0,   0,\n",
              "         0,   0,   0,   0,   0,   0,   0,   0,   0,   0,   0,   0,   0,\n",
              "         0,   0,   0,   0,   0,   0,   0,   0,   0,   0,   0,   0,   0,\n",
              "         0,   0,   0,   0,   0,   0,   0,   0,   0,   0,   0,   0,   0,\n",
              "         0,   0,   0,   0,   0,   0,   0,   0,   0,   0,   0,   0,   0,\n",
              "         0,   0,   0,   0,   0,   0,   0,   0,   0,   0,   0,   0,   0,\n",
              "         0,   0,   0,   0,   0,   0,   0,   0,   0,   0,   0,   0,   0,\n",
              "         0,   0,   0,   0,   0,   0,   0,   0,   0,   0,   0,   0,   0,\n",
              "         0,   0,   0,   0,   0,   0,   0,   0,   0,   0,   0,   0,   0,\n",
              "         0,   0,   0,   0,   0,   0,   0,   0,   0,   0,   0,   0,   0,\n",
              "         0,   0,   0,   0,   0,   0,   0,   0,   0,   0,   0,   0,   0,\n",
              "         0,   0,   0,   0,   0,   0,   0,   0,   0,   0,   0,   0,   0,\n",
              "         0,   0,   0,   0,   0,   0,   0,   0,   0,   0,   0,   0,   0,\n",
              "         0,   0,   0,   0,   0,   0,   0,   0,   0,   0,   0,   0,   0,\n",
              "         0,   0,   0,   0,   0,   0,   0,   0,   0,   0,   0,   0,   0,\n",
              "         0,   0,   0,   0,   0,   0,   0,   0,   0,   0,   0,   0,   0,\n",
              "         0,   0,   0,   0,   0,   0,   0,   0,   0,   0,   0,   0,   0,\n",
              "         0,   0,   0,   0,   0,   0,   0,   0,   0,   0,   0,   0,   0,\n",
              "         0,   0,   0,   0], dtype=uint8)"
            ]
          },
          "metadata": {
            "tags": []
          },
          "execution_count": 77
        }
      ]
    },
    {
      "metadata": {
        "id": "rxxXbq_JXQIJ",
        "colab_type": "code",
        "colab": {
          "base_uri": "https://localhost:8080/",
          "height": 1042
        },
        "outputId": "8bf87aaa-ce30-4df4-8515-f8c6ed637aee"
      },
      "cell_type": "code",
      "source": [
        "img"
      ],
      "execution_count": 75,
      "outputs": [
        {
          "output_type": "execute_result",
          "data": {
            "text/plain": [
              "array([  0,   0,   5, 113, 128, 128, 128, 128, 128, 128, 128, 128, 128,\n",
              "       128, 128, 128, 128, 128, 128, 128, 123,  12,   0,   0,   0,   0,\n",
              "         0,   0,   0,   0,   9, 225, 255, 255, 255, 255, 255, 255, 255,\n",
              "       255, 255, 255, 255, 255, 255, 255, 255, 255, 244,  22,   0,   0,\n",
              "         0,   0,   0,   0,   0,   0,   9, 225, 255, 255, 255, 255, 255,\n",
              "       255, 255, 255, 255, 255, 255, 255, 255, 255, 255, 255, 244,  22,\n",
              "         0,   0,   0,   0,   0,   0,   0,   0,   0,   0,   0,   0,   0,\n",
              "         0,   0,   0,   0,   0,   0,   0,   0,   0,   0, 141, 255, 255,\n",
              "       129,   0,   0,   0,   0,   0,   0,   0,   0,   0,   0,   0,   0,\n",
              "         0,   0,   0,   0,   0,   0,   0,   0,   0,   0,   0,  61, 255,\n",
              "       255, 205,  11,   0,   0,   0,   0,   0,   0,   0,   0,   0,   0,\n",
              "         0,   0,   0,   0,   0,   0,   0,   0,   0,   0,   0,   0,   9,\n",
              "       225, 255, 249,  55,   0,   0,   0,   0,   0,   0,   0,   0,   0,\n",
              "         0,   0,   0,   0,   0,   0,   0,   0,   0,   0,   0,   0,   0,\n",
              "         0, 141, 255, 255, 175,   0,   0,   0,   0,   0,   0,   0,   0,\n",
              "         0,   0,   0,   0,   0,   0,   0,   0,   0,   0,   0,   0,   0,\n",
              "         0,   0,  61, 255, 255, 244,  22,   0,   0,   0,   0,   0,   0,\n",
              "         0,   0,   0,   0,   0,   0,   0,   0,   0,   0,   0,   0,   0,\n",
              "         0,   0,   0,   9, 225, 255, 255,  89,   0,   0,   0,   0,   0,\n",
              "         0,   0,   0,   0,   0,   0,   0,   0,   0,   0,   0,   0,   0,\n",
              "         0,   0,   0,   0,   0,  99, 255, 255, 205,  11,   0,   0,   0,\n",
              "         0,   0,   0,   0,   0,   0,   0,   0,   0,   0,   0,   0,   0,\n",
              "         0,   0,   0,   0,   0,   0,  34, 238, 255, 249,  55,   0,   0,\n",
              "         0,   0,   0,   0,   0,   0,   0,   0,   0,   0,   0,   0,   0,\n",
              "         0,   0,   0,   0,   0,   0,   0,   0, 141, 255, 255, 175,   0,\n",
              "         0,   0,   0,   0,   0,   0,   0,   0,   0,   0,   0,   0,   0,\n",
              "         0,   0,   0,   0,   0,   0,   0,   0,   0,  34, 238, 255, 249,\n",
              "        55,   0,   0,   0,   0,   0,   0,   0,   0,   0,   0,   0,   0,\n",
              "         0,   0,   0,   0,   0,   0,   0,   0,   0,   0,   0, 141, 255,\n",
              "       255, 175,   0,   0,   0,   0,   0,   0,   0,   0,   0,   0,   0,\n",
              "         0,   0,   0,   0,   0,   0,   0,   0,   0,   0,   0,   0,   9,\n",
              "       225, 255, 255,  89,   0,   0,   0,   0,   0,   0,   0,   0,   0,\n",
              "         0,   0,   0,   0,   0,   0,   0,   0,   0,   0,   0,   0,   0,\n",
              "         0,  99, 255, 255, 205,  11,   0,   0,   0,   0,   0,   0,   0,\n",
              "         0,   0,   0,   0,   0,   0,   0,   0,   0,   0,   0,   0,   0,\n",
              "         0,   0,   5, 178, 255, 255, 129,   0,   0,   0,   0,   0,   0,\n",
              "         0,   0,   0,   0,   0,   0,   0,   0,   0,   0,   0,   0,   0,\n",
              "         0,   0,   0,   0,  61, 255, 255, 249,  55,   0,   0,   0,   0,\n",
              "         0,   0,   0,   0,   0,   0,   0,   0,   0,   0,   0,   0,   0,\n",
              "         0,   0,   0,   0,   0,   0, 141, 255, 255, 205,  11,   0,   0,\n",
              "         0,   0,   0,   0,   0,   0,   0,   0,   0,   0,   0,   0,   0,\n",
              "         0,   0,   0,   0,   0,   0,   0,   5, 178, 255, 255, 129,   0,\n",
              "         0,   0,   0,   0,   0,   0,   0,   0,   0,   0,   0,   0,   0,\n",
              "         0,   0,   0,   0,   0,   0,   0,   0,   0,  34, 238, 255, 255,\n",
              "        89,   0,   0,   0,   0,   0,   0,   0,   0,   0,   0,   0,   0,\n",
              "         0,   0,   0,   0,   0,   0,   0,   0,   0,   0,   0,  61, 255,\n",
              "       255, 249,  55,   0,   0,   0,   0,   0,   0,   0,   0,   0,   0,\n",
              "         0,   0,   0,   0,   0,   0,   0,   0,   0,   0,   0,   0,   0,\n",
              "        99, 255, 255, 244,  22,   0,   0,   0,   0,   0,   0,   0,   0,\n",
              "         0,   0,   0,   0,   0,   0,   0,   0,   0,   0,   0,   0,   0,\n",
              "         0,   0, 141, 255, 255, 205,  11,   0,   0,   0,   0,   0,   0,\n",
              "         0,   0,   0,   0,   0,   0,   0,   0,   0,   0,   0,   0,   0,\n",
              "         0,   0,   0,   5, 178, 255, 255, 175,   0,   0,   0,   0,   0,\n",
              "         0,   0,   0,   0,   0,   0,   0,   0,   0,   0,   0,   0,   0,\n",
              "         0,   0,   0,   0,   0,   9, 225, 255, 255, 175,   0,   0,   0,\n",
              "         0,   0,   0,   0,   0,   0,   0,   0,   0,   0,   0,   0,   0,\n",
              "         0,   0,   0,   0,   0,   0,   0,   9, 225, 255, 255, 175,   0,\n",
              "         0,   0,   0,   0,   0,   0,   0,   0,   0,   0,   0,   0,   0,\n",
              "         0,   0,   0,   0,   0,   0,   0,   0,   0,   0,   0,   0,   0,\n",
              "         0,   0,   0,   0,   0,   0,   0,   0,   0,   0,   0,   0,   0,\n",
              "         0,   0,   0,   0], dtype=uint8)"
            ]
          },
          "metadata": {
            "tags": []
          },
          "execution_count": 75
        }
      ]
    },
    {
      "metadata": {
        "id": "rJNxVkN9XimU",
        "colab_type": "code",
        "colab": {}
      },
      "cell_type": "code",
      "source": [
        ""
      ],
      "execution_count": 0,
      "outputs": []
    }
  ]
}